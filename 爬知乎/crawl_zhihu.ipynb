{
 "cells": [
  {
   "cell_type": "code",
   "execution_count": 4,
   "metadata": {},
   "outputs": [],
   "source": [
    "import os\n",
    "import requests\n",
    "from lxml import html\n",
    "\n",
    "headers = {\n",
    "    'Host': 'www.zhihu.com',\n",
    "    'Accept-Language': 'zh-CN,zh;q=0.8,en;q=0.6',\n",
    "    # 2017.12 经网友提醒，知乎更新后启用了网页压缩，所以不能再采用该压缩头部\n",
    "    # !!!注意, 请求头部里使用gzip, 响应的网页内容不一定被压缩，这得看目标网站是否压缩网页\n",
    "    # 'Accept-Encoding': 'gzip, deflate, sdch, br',\n",
    "    'Connection': 'keep-alive',\n",
    "    'Pragma': 'no-cache',\n",
    "    'Cache-Control': 'no-cache',\n",
    "    'Upgrade-Insecure-Requests': '1',\n",
    "    'Accept': 'text/html,application/xhtml+xml,application/xml;q=0.9,image/webp,*/*;q=0.8',\n",
    "    'User-Agent': 'Mozilla/5.0 (Macintosh; Intel Mac OS X 10_12_4) '\n",
    "                  'AppleWebKit/537.36 (KHTML, like Gecko) Chrome/57.0.2987.133 Safari/537.36',\n",
    "}\n",
    "\n",
    "\n",
    "def save(text, filename='temp', path='download'):\n",
    "    fpath = os.path.join(path, filename)\n",
    "    with open(fpath, 'wb+') as  f:\n",
    "        print('output:', fpath)\n",
    "        f.write(text)\n",
    "\n",
    "\n",
    "def save_image(image_url):\n",
    "    resp = requests.get(image_url)\n",
    "    page = resp.content\n",
    "    filename = image_url.split('zhimg.com/')[-1]\n",
    "    save(page, filename)\n",
    "\n",
    "\n",
    "def crawl(url):\n",
    "    resp = requests.get(url, headers=headers)\n",
    "    page = resp.content\n",
    "    root = html.fromstring(page)\n",
    "    image_urls = root.xpath('//img[@data-original]/@data-original')\n",
    "    for image_url in image_urls:\n",
    "        save_image(image_url)"
   ]
  },
  {
   "cell_type": "code",
   "execution_count": 5,
   "metadata": {},
   "outputs": [
    {
     "name": "stdout",
     "output_type": "stream",
     "text": [
      "output: download/fe7bdd75b701d74666daeda255c7abca_r.jpg\n",
      "output: download/fe7bdd75b701d74666daeda255c7abca_r.jpg\n",
      "output: download/b2ff83fa4438304267930b67b9a6189a_r.jpg\n",
      "output: download/b2ff83fa4438304267930b67b9a6189a_r.jpg\n",
      "output: download/a49f7d68e0e7c76f900b1556de91227c_r.jpg\n",
      "output: download/a49f7d68e0e7c76f900b1556de91227c_r.jpg\n",
      "output: download/2b5e7f03a0f467f2eb5fb65f84a8e5c0_r.jpg\n",
      "output: download/2b5e7f03a0f467f2eb5fb65f84a8e5c0_r.jpg\n",
      "output: download/79443e71708d173618ae41d9528867ba_r.jpg\n",
      "output: download/79443e71708d173618ae41d9528867ba_r.jpg\n",
      "output: download/v2-274a6ac4764d3824987fcd99874247fd_r.jpg\n",
      "output: download/v2-274a6ac4764d3824987fcd99874247fd_r.jpg\n",
      "output: download/v2-4b3fb8aad126f9a6f3062e4715385a53_r.jpg\n",
      "output: download/v2-4b3fb8aad126f9a6f3062e4715385a53_r.jpg\n",
      "output: download/v2-9ed444bdd30d59a4ff2620a2730732bd_r.jpg\n",
      "output: download/v2-9ed444bdd30d59a4ff2620a2730732bd_r.jpg\n",
      "output: download/v2-b0501aeff709b02ec41a1537b873a789_r.jpg\n",
      "output: download/v2-b0501aeff709b02ec41a1537b873a789_r.jpg\n",
      "output: download/v2-44463580ddc0a24332423ac4fdd2eaa5_r.jpg\n",
      "output: download/v2-44463580ddc0a24332423ac4fdd2eaa5_r.jpg\n"
     ]
    }
   ],
   "source": [
    "url = 'https://www.zhihu.com/question/27364360'  # 有一双美腿是一种怎样的体验?\n",
    "crawl(url)"
   ]
  },
  {
   "cell_type": "code",
   "execution_count": null,
   "metadata": {},
   "outputs": [],
   "source": []
  }
 ],
 "metadata": {
  "kernelspec": {
   "display_name": "Python 3",
   "language": "python",
   "name": "python3"
  },
  "language_info": {
   "codemirror_mode": {
    "name": "ipython",
    "version": 3
   },
   "file_extension": ".py",
   "mimetype": "text/x-python",
   "name": "python",
   "nbconvert_exporter": "python",
   "pygments_lexer": "ipython3",
   "version": "3.7.0"
  }
 },
 "nbformat": 4,
 "nbformat_minor": 2
}
